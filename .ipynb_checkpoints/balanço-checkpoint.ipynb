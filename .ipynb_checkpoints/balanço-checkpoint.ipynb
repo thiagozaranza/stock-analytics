{
 "cells": [
  {
   "cell_type": "code",
   "execution_count": 33,
   "metadata": {
    "collapsed": true
   },
   "outputs": [],
   "source": [
    "import pandas as pd"
   ]
  },
  {
   "cell_type": "code",
   "execution_count": 34,
   "metadata": {
    "collapsed": true
   },
   "outputs": [],
   "source": [
    "import numpy as np"
   ]
  },
  {
   "cell_type": "code",
   "execution_count": 35,
   "metadata": {
    "collapsed": true
   },
   "outputs": [],
   "source": [
    "import matplotlib.pyplot as plt"
   ]
  },
  {
   "cell_type": "code",
   "execution_count": 36,
   "metadata": {},
   "outputs": [],
   "source": [
    "balanco = pd.read_csv(\"balanços/balanco_VIVR3.csv\", index_col=0, header=1)"
   ]
  },
  {
   "cell_type": "code",
   "execution_count": 37,
   "metadata": {},
   "outputs": [],
   "source": [
    "balanco = balanco.T"
   ]
  },
  {
   "cell_type": "code",
   "execution_count": 38,
   "metadata": {},
   "outputs": [],
   "source": [
    "balanco = balanco[::-1]"
   ]
  },
  {
   "cell_type": "code",
   "execution_count": 39,
   "metadata": {},
   "outputs": [
    {
     "data": {
      "text/html": [
       "<div>\n",
       "<style>\n",
       "    .dataframe thead tr:only-child th {\n",
       "        text-align: right;\n",
       "    }\n",
       "\n",
       "    .dataframe thead th {\n",
       "        text-align: left;\n",
       "    }\n",
       "\n",
       "    .dataframe tbody tr th {\n",
       "        vertical-align: top;\n",
       "    }\n",
       "</style>\n",
       "<table border=\"1\" class=\"dataframe\">\n",
       "  <thead>\n",
       "    <tr style=\"text-align: right;\">\n",
       "      <th></th>\n",
       "      <th>Ativo Total</th>\n",
       "      <th>Ativo Circulante</th>\n",
       "      <th>Caixa e Equivalentes de Caixa</th>\n",
       "      <th>Aplicações Financeiras</th>\n",
       "      <th>Contas a Receber</th>\n",
       "      <th>Estoques</th>\n",
       "      <th>Ativos Biológicos</th>\n",
       "      <th>Tributos a Recuperar</th>\n",
       "      <th>Despesas Antecipadas</th>\n",
       "      <th>Outros Ativos Circulantes</th>\n",
       "      <th>...</th>\n",
       "      <th>Patrimônio Líquido</th>\n",
       "      <th>Capital Social Realizado</th>\n",
       "      <th>Reservas de Capital</th>\n",
       "      <th>Reservas de Reavaliação</th>\n",
       "      <th>Reservas de Lucros</th>\n",
       "      <th>Lucros/Prejuízos Acumulados</th>\n",
       "      <th>Ajustes de Avaliação Patrimonial</th>\n",
       "      <th>Ajustes Acumulados de Conversão</th>\n",
       "      <th>Outros Resultados Abrangentes</th>\n",
       "      <th>Adiantamento para Futuro Aumento Capital</th>\n",
       "    </tr>\n",
       "  </thead>\n",
       "  <tbody>\n",
       "    <tr>\n",
       "      <th>31/03/2008</th>\n",
       "      <td>1.574.188</td>\n",
       "      <td>1.038.745</td>\n",
       "      <td>21.671</td>\n",
       "      <td>0</td>\n",
       "      <td>278.915</td>\n",
       "      <td>705.870</td>\n",
       "      <td>0</td>\n",
       "      <td>0</td>\n",
       "      <td>0</td>\n",
       "      <td>32.289</td>\n",
       "      <td>...</td>\n",
       "      <td>730.470</td>\n",
       "      <td>785.915</td>\n",
       "      <td>0</td>\n",
       "      <td>0</td>\n",
       "      <td>0</td>\n",
       "      <td>-55.445</td>\n",
       "      <td>0</td>\n",
       "      <td>0</td>\n",
       "      <td>0</td>\n",
       "      <td>0</td>\n",
       "    </tr>\n",
       "    <tr>\n",
       "      <th>30/06/2008</th>\n",
       "      <td>1.655.467</td>\n",
       "      <td>982.058</td>\n",
       "      <td>9.898</td>\n",
       "      <td>0</td>\n",
       "      <td>277.777</td>\n",
       "      <td>656.909</td>\n",
       "      <td>0</td>\n",
       "      <td>0</td>\n",
       "      <td>0</td>\n",
       "      <td>37.474</td>\n",
       "      <td>...</td>\n",
       "      <td>731.049</td>\n",
       "      <td>785.915</td>\n",
       "      <td>0</td>\n",
       "      <td>0</td>\n",
       "      <td>0</td>\n",
       "      <td>-54.866</td>\n",
       "      <td>0</td>\n",
       "      <td>0</td>\n",
       "      <td>0</td>\n",
       "      <td>0</td>\n",
       "    </tr>\n",
       "    <tr>\n",
       "      <th>30/09/2008</th>\n",
       "      <td>1.714.766</td>\n",
       "      <td>868.794</td>\n",
       "      <td>37.253</td>\n",
       "      <td>0</td>\n",
       "      <td>273.832</td>\n",
       "      <td>507.207</td>\n",
       "      <td>0</td>\n",
       "      <td>0</td>\n",
       "      <td>0</td>\n",
       "      <td>50.502</td>\n",
       "      <td>...</td>\n",
       "      <td>709.240</td>\n",
       "      <td>785.915</td>\n",
       "      <td>0</td>\n",
       "      <td>0</td>\n",
       "      <td>0</td>\n",
       "      <td>-76.675</td>\n",
       "      <td>0</td>\n",
       "      <td>0</td>\n",
       "      <td>0</td>\n",
       "      <td>0</td>\n",
       "    </tr>\n",
       "  </tbody>\n",
       "</table>\n",
       "<p>3 rows × 55 columns</p>\n",
       "</div>"
      ],
      "text/plain": [
       "           Ativo Total Ativo Circulante Caixa e Equivalentes de Caixa  \\\n",
       "31/03/2008   1.574.188        1.038.745                        21.671   \n",
       "30/06/2008   1.655.467          982.058                         9.898   \n",
       "30/09/2008   1.714.766          868.794                        37.253   \n",
       "\n",
       "           Aplicações Financeiras Contas a Receber Estoques Ativos Biológicos  \\\n",
       "31/03/2008                      0          278.915  705.870                 0   \n",
       "30/06/2008                      0          277.777  656.909                 0   \n",
       "30/09/2008                      0          273.832  507.207                 0   \n",
       "\n",
       "           Tributos a Recuperar Despesas Antecipadas  \\\n",
       "31/03/2008                    0                    0   \n",
       "30/06/2008                    0                    0   \n",
       "30/09/2008                    0                    0   \n",
       "\n",
       "           Outros Ativos Circulantes                   ...                     \\\n",
       "31/03/2008                    32.289                   ...                      \n",
       "30/06/2008                    37.474                   ...                      \n",
       "30/09/2008                    50.502                   ...                      \n",
       "\n",
       "           Patrimônio Líquido Capital Social Realizado Reservas de Capital  \\\n",
       "31/03/2008            730.470                  785.915                   0   \n",
       "30/06/2008            731.049                  785.915                   0   \n",
       "30/09/2008            709.240                  785.915                   0   \n",
       "\n",
       "           Reservas de Reavaliação Reservas de Lucros  \\\n",
       "31/03/2008                       0                  0   \n",
       "30/06/2008                       0                  0   \n",
       "30/09/2008                       0                  0   \n",
       "\n",
       "           Lucros/Prejuízos Acumulados Ajustes de Avaliação Patrimonial  \\\n",
       "31/03/2008                     -55.445                                0   \n",
       "30/06/2008                     -54.866                                0   \n",
       "30/09/2008                     -76.675                                0   \n",
       "\n",
       "           Ajustes Acumulados de Conversão Outros Resultados Abrangentes  \\\n",
       "31/03/2008                               0                             0   \n",
       "30/06/2008                               0                             0   \n",
       "30/09/2008                               0                             0   \n",
       "\n",
       "           Adiantamento para Futuro Aumento Capital  \n",
       "31/03/2008                                        0  \n",
       "30/06/2008                                        0  \n",
       "30/09/2008                                        0  \n",
       "\n",
       "[3 rows x 55 columns]"
      ]
     },
     "execution_count": 39,
     "metadata": {},
     "output_type": "execute_result"
    }
   ],
   "source": [
    "balanco.head(3)"
   ]
  },
  {
   "cell_type": "markdown",
   "metadata": {},
   "source": [
    "#### Convert string to int "
   ]
  },
  {
   "cell_type": "code",
   "execution_count": 40,
   "metadata": {},
   "outputs": [],
   "source": [
    "balanco = balanco.applymap(lambda x: int(x.replace('.', '')))"
   ]
  },
  {
   "cell_type": "code",
   "execution_count": 41,
   "metadata": {},
   "outputs": [
    {
     "data": {
      "text/plain": [
       "31/03/2008    1038745\n",
       "30/06/2008     982058\n",
       "30/09/2008     868794\n",
       "Name: Ativo Circulante, dtype: int64"
      ]
     },
     "execution_count": 41,
     "metadata": {},
     "output_type": "execute_result"
    }
   ],
   "source": [
    "balanco[\"Ativo Circulante\"].head(3)"
   ]
  },
  {
   "cell_type": "code",
   "execution_count": 42,
   "metadata": {},
   "outputs": [
    {
     "data": {
      "text/plain": [
       "Index(['31/03/2008', '30/06/2008', '30/09/2008', '31/12/2008', '31/03/2009',\n",
       "       '30/06/2009', '30/09/2009', '31/12/2009', '31/03/2010', '30/06/2010',\n",
       "       '30/09/2010', '31/12/2010', '31/03/2011', '30/06/2011', '30/09/2011',\n",
       "       '31/12/2011', '31/03/2012', '30/06/2012', '30/09/2012', '31/12/2012',\n",
       "       '31/03/2013', '30/06/2013', '30/09/2013', '31/12/2013', '31/03/2014',\n",
       "       '30/06/2014', '30/09/2014', '31/12/2014', '31/03/2015', '30/06/2015',\n",
       "       '30/09/2015', '31/12/2015', '31/03/2016', '30/06/2016', '30/09/2016',\n",
       "       '31/12/2016', '31/03/2017', '30/06/2017', '30/09/2017', '31/12/2017',\n",
       "       '31/03/2018', '30/06/2018'],\n",
       "      dtype='object')"
      ]
     },
     "execution_count": 42,
     "metadata": {},
     "output_type": "execute_result"
    }
   ],
   "source": [
    "balanco.index"
   ]
  },
  {
   "cell_type": "code",
   "execution_count": 43,
   "metadata": {},
   "outputs": [
    {
     "data": {
      "text/plain": [
       "<matplotlib.axes._subplots.AxesSubplot at 0x7f8387beb0b8>"
      ]
     },
     "execution_count": 43,
     "metadata": {},
     "output_type": "execute_result"
    },
    {
     "data": {
      "image/png": "[encoded data removed]",
      "text/plain": [
       "<matplotlib.figure.Figure at 0x7f838fe49d68>"
      ]
     },
     "metadata": {},
     "output_type": "display_data"
    }
   ],
   "source": [
    "%matplotlib inline\n",
    "balanco[\"Lucros/Prejuízos Acumulados\"].plot()"
   ]
  },
  {
   "cell_type": "code",
   "execution_count": 44,
   "metadata": {},
   "outputs": [
    {
     "data": {
      "image/png": "[encoded data removed]",
      "text/plain": [
       "<matplotlib.figure.Figure at 0x7f8387bd0f28>"
      ]
     },
     "metadata": {},
     "output_type": "display_data"
    }
   ],
   "source": [
    "fig, ax = plt.subplots()"
   ]
  },
  {
   "cell_type": "code",
   "execution_count": 48,
   "metadata": {},
   "outputs": [
    {
     "data": {
      "text/plain": [
       "[<matplotlib.lines.Line2D at 0x7f8387b9e518>]"
      ]
     },
     "execution_count": 48,
     "metadata": {},
     "output_type": "execute_result"
    }
   ],
   "source": [
    "ax.plot(np.arange(balanco.index.size), balanco[\"Lucros/Prejuízos Acumulados\"])"
   ]
  },
  {
   "cell_type": "code",
   "execution_count": null,
   "metadata": {
    "collapsed": true
   },
   "outputs": [],
   "source": []
  }
 ],
 "metadata": {
  "kernelspec": {
   "display_name": "Python 3",
   "language": "python",
   "name": "python3"
  },
  "language_info": {
   "codemirror_mode": {
    "name": "ipython",
    "version": 3
   },
   "file_extension": ".py",
   "mimetype": "text/x-python",
   "name": "python",
   "nbconvert_exporter": "python",
   "pygments_lexer": "ipython3",
   "version": "3.6.2"
  }
 },
 "nbformat": 4,
 "nbformat_minor": 2
}
